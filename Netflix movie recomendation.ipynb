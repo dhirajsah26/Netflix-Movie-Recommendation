{
 "cells": [
  {
   "cell_type": "code",
   "execution_count": 1,
   "id": "2254022b",
   "metadata": {},
   "outputs": [],
   "source": [
    "import numpy as np\n",
    "import pandas as pd"
   ]
  },
  {
   "cell_type": "code",
   "execution_count": 2,
   "id": "dae7387c",
   "metadata": {},
   "outputs": [],
   "source": [
    "movies_df = pd.read_csv(\"movie data/movies.csv\") "
   ]
  },
  {
   "cell_type": "code",
   "execution_count": 3,
   "id": "83217c36",
   "metadata": {
    "scrolled": false
   },
   "outputs": [
    {
     "data": {
      "text/html": [
       "<div>\n",
       "<style scoped>\n",
       "    .dataframe tbody tr th:only-of-type {\n",
       "        vertical-align: middle;\n",
       "    }\n",
       "\n",
       "    .dataframe tbody tr th {\n",
       "        vertical-align: top;\n",
       "    }\n",
       "\n",
       "    .dataframe thead th {\n",
       "        text-align: right;\n",
       "    }\n",
       "</style>\n",
       "<table border=\"1\" class=\"dataframe\">\n",
       "  <thead>\n",
       "    <tr style=\"text-align: right;\">\n",
       "      <th></th>\n",
       "      <th>movieId</th>\n",
       "      <th>title</th>\n",
       "      <th>genres</th>\n",
       "    </tr>\n",
       "  </thead>\n",
       "  <tbody>\n",
       "    <tr>\n",
       "      <th>0</th>\n",
       "      <td>1</td>\n",
       "      <td>Toy Story (1995)</td>\n",
       "      <td>Adventure|Animation|Children|Comedy|Fantasy</td>\n",
       "    </tr>\n",
       "    <tr>\n",
       "      <th>1</th>\n",
       "      <td>2</td>\n",
       "      <td>Jumanji (1995)</td>\n",
       "      <td>Adventure|Children|Fantasy</td>\n",
       "    </tr>\n",
       "    <tr>\n",
       "      <th>2</th>\n",
       "      <td>3</td>\n",
       "      <td>Grumpier Old Men (1995)</td>\n",
       "      <td>Comedy|Romance</td>\n",
       "    </tr>\n",
       "    <tr>\n",
       "      <th>3</th>\n",
       "      <td>4</td>\n",
       "      <td>Waiting to Exhale (1995)</td>\n",
       "      <td>Comedy|Drama|Romance</td>\n",
       "    </tr>\n",
       "    <tr>\n",
       "      <th>4</th>\n",
       "      <td>5</td>\n",
       "      <td>Father of the Bride Part II (1995)</td>\n",
       "      <td>Comedy</td>\n",
       "    </tr>\n",
       "  </tbody>\n",
       "</table>\n",
       "</div>"
      ],
      "text/plain": [
       "   movieId                               title  \\\n",
       "0        1                    Toy Story (1995)   \n",
       "1        2                      Jumanji (1995)   \n",
       "2        3             Grumpier Old Men (1995)   \n",
       "3        4            Waiting to Exhale (1995)   \n",
       "4        5  Father of the Bride Part II (1995)   \n",
       "\n",
       "                                        genres  \n",
       "0  Adventure|Animation|Children|Comedy|Fantasy  \n",
       "1                   Adventure|Children|Fantasy  \n",
       "2                               Comedy|Romance  \n",
       "3                         Comedy|Drama|Romance  \n",
       "4                                       Comedy  "
      ]
     },
     "execution_count": 3,
     "metadata": {},
     "output_type": "execute_result"
    }
   ],
   "source": [
    "movies_df.head()"
   ]
  },
  {
   "cell_type": "code",
   "execution_count": 9,
   "id": "dbed9220",
   "metadata": {},
   "outputs": [
    {
     "name": "stdout",
     "output_type": "stream",
     "text": [
      "<class 'pandas.core.frame.DataFrame'>\n",
      "RangeIndex: 10329 entries, 0 to 10328\n",
      "Data columns (total 3 columns):\n",
      " #   Column   Non-Null Count  Dtype \n",
      "---  ------   --------------  ----- \n",
      " 0   movieId  10329 non-null  int64 \n",
      " 1   title    10329 non-null  object\n",
      " 2   genres   10329 non-null  object\n",
      "dtypes: int64(1), object(2)\n",
      "memory usage: 242.2+ KB\n",
      "None\n",
      "             movieId\n",
      "count   10329.000000\n",
      "mean    31924.282893\n",
      "std     37734.741149\n",
      "min         1.000000\n",
      "25%      3240.000000\n",
      "50%      7088.000000\n",
      "75%     59900.000000\n",
      "max    149532.000000\n"
     ]
    }
   ],
   "source": [
    "print(movies_df.info())\n",
    "print(movies_df.describe())"
   ]
  },
  {
   "cell_type": "code",
   "execution_count": 16,
   "id": "d01de305",
   "metadata": {
    "scrolled": true
   },
   "outputs": [
    {
     "data": {
      "text/html": [
       "<div>\n",
       "<style scoped>\n",
       "    .dataframe tbody tr th:only-of-type {\n",
       "        vertical-align: middle;\n",
       "    }\n",
       "\n",
       "    .dataframe tbody tr th {\n",
       "        vertical-align: top;\n",
       "    }\n",
       "\n",
       "    .dataframe thead th {\n",
       "        text-align: right;\n",
       "    }\n",
       "</style>\n",
       "<table border=\"1\" class=\"dataframe\">\n",
       "  <thead>\n",
       "    <tr style=\"text-align: right;\">\n",
       "      <th></th>\n",
       "      <th>userId</th>\n",
       "      <th>movieId</th>\n",
       "      <th>rating</th>\n",
       "      <th>timestamp</th>\n",
       "    </tr>\n",
       "  </thead>\n",
       "  <tbody>\n",
       "    <tr>\n",
       "      <th>0</th>\n",
       "      <td>1</td>\n",
       "      <td>16</td>\n",
       "      <td>4.0</td>\n",
       "      <td>1217897793</td>\n",
       "    </tr>\n",
       "    <tr>\n",
       "      <th>1</th>\n",
       "      <td>1</td>\n",
       "      <td>24</td>\n",
       "      <td>1.5</td>\n",
       "      <td>1217895807</td>\n",
       "    </tr>\n",
       "    <tr>\n",
       "      <th>2</th>\n",
       "      <td>1</td>\n",
       "      <td>32</td>\n",
       "      <td>4.0</td>\n",
       "      <td>1217896246</td>\n",
       "    </tr>\n",
       "    <tr>\n",
       "      <th>3</th>\n",
       "      <td>1</td>\n",
       "      <td>47</td>\n",
       "      <td>4.0</td>\n",
       "      <td>1217896556</td>\n",
       "    </tr>\n",
       "    <tr>\n",
       "      <th>4</th>\n",
       "      <td>1</td>\n",
       "      <td>50</td>\n",
       "      <td>4.0</td>\n",
       "      <td>1217896523</td>\n",
       "    </tr>\n",
       "  </tbody>\n",
       "</table>\n",
       "</div>"
      ],
      "text/plain": [
       "   userId  movieId  rating   timestamp\n",
       "0       1       16     4.0  1217897793\n",
       "1       1       24     1.5  1217895807\n",
       "2       1       32     4.0  1217896246\n",
       "3       1       47     4.0  1217896556\n",
       "4       1       50     4.0  1217896523"
      ]
     },
     "execution_count": 16,
     "metadata": {},
     "output_type": "execute_result"
    }
   ],
   "source": [
    "timestamp_columns = ['timestamp']\n",
    "rating_df = pd.read_csv(\"movie data/ratings.csv\",parse_dates= timestamp_columns)\n",
    "rating_df.head()"
   ]
  },
  {
   "cell_type": "code",
   "execution_count": 17,
   "id": "d6350053",
   "metadata": {},
   "outputs": [
    {
     "name": "stdout",
     "output_type": "stream",
     "text": [
      "<class 'pandas.core.frame.DataFrame'>\n",
      "RangeIndex: 105339 entries, 0 to 105338\n",
      "Data columns (total 4 columns):\n",
      " #   Column     Non-Null Count   Dtype  \n",
      "---  ------     --------------   -----  \n",
      " 0   userId     105339 non-null  int64  \n",
      " 1   movieId    105339 non-null  int64  \n",
      " 2   rating     105339 non-null  float64\n",
      " 3   timestamp  105339 non-null  object \n",
      "dtypes: float64(1), int64(2), object(1)\n",
      "memory usage: 3.2+ MB\n",
      "None\n",
      "              userId        movieId         rating\n",
      "count  105339.000000  105339.000000  105339.000000\n",
      "mean      364.924539   13381.312477       3.516850\n",
      "std       197.486905   26170.456869       1.044872\n",
      "min         1.000000       1.000000       0.500000\n",
      "25%       192.000000    1073.000000       3.000000\n",
      "50%       383.000000    2497.000000       3.500000\n",
      "75%       557.000000    5991.000000       4.000000\n",
      "max       668.000000  149532.000000       5.000000\n"
     ]
    }
   ],
   "source": [
    "print(rating_df.info())\n",
    "print(rating_df.describe())"
   ]
  },
  {
   "cell_type": "code",
   "execution_count": 6,
   "id": "8bbdaecf",
   "metadata": {},
   "outputs": [
    {
     "name": "stdout",
     "output_type": "stream",
     "text": [
      "<class 'pandas.core.frame.DataFrame'>\n",
      "RangeIndex: 105339 entries, 0 to 105338\n",
      "Data columns (total 4 columns):\n",
      " #   Column     Non-Null Count   Dtype  \n",
      "---  ------     --------------   -----  \n",
      " 0   userId     105339 non-null  int64  \n",
      " 1   movieId    105339 non-null  int64  \n",
      " 2   rating     105339 non-null  float64\n",
      " 3   timestamp  105339 non-null  int64  \n",
      "dtypes: float64(1), int64(3)\n",
      "memory usage: 3.2 MB\n"
     ]
    }
   ],
   "source": [
    "rating_df.info()"
   ]
  },
  {
   "cell_type": "code",
   "execution_count": 18,
   "id": "29a4222b",
   "metadata": {},
   "outputs": [
    {
     "name": "stdout",
     "output_type": "stream",
     "text": [
      "   movieId             title                                       genres  \\\n",
      "0        1  Toy Story (1995)  Adventure|Animation|Children|Comedy|Fantasy   \n",
      "1        1  Toy Story (1995)  Adventure|Animation|Children|Comedy|Fantasy   \n",
      "2        1  Toy Story (1995)  Adventure|Animation|Children|Comedy|Fantasy   \n",
      "3        1  Toy Story (1995)  Adventure|Animation|Children|Comedy|Fantasy   \n",
      "4        1  Toy Story (1995)  Adventure|Animation|Children|Comedy|Fantasy   \n",
      "\n",
      "   userId  rating   timestamp  \n",
      "0       2     5.0   859046895  \n",
      "1       5     4.0  1303501039  \n",
      "2       8     5.0   858610933  \n",
      "3      11     4.0   850815810  \n",
      "4      14     4.0   851766286  \n"
     ]
    }
   ],
   "source": [
    "# Merge dataframes on 'movie_id'\n",
    "combined_df = pd.merge(movies_df, rating_df, on='movieId')\n",
    "\n",
    "# Explore the combined data\n",
    "print(combined_df.head())\n"
   ]
  },
  {
   "cell_type": "code",
   "execution_count": 48,
   "id": "1fe3629e",
   "metadata": {},
   "outputs": [],
   "source": [
    "# combined_df.to_csv('combined_datad.csv', index=False)"
   ]
  },
  {
   "cell_type": "code",
   "execution_count": 49,
   "id": "0b09e6f2",
   "metadata": {},
   "outputs": [],
   "source": [
    "#combined_df.describe()"
   ]
  },
  {
   "cell_type": "code",
   "execution_count": null,
   "id": "c96ae968",
   "metadata": {},
   "outputs": [],
   "source": []
  },
  {
   "cell_type": "code",
   "execution_count": 22,
   "id": "99bd7c21",
   "metadata": {},
   "outputs": [],
   "source": [
    "# get the counts of occurances of each movie title\n",
    "movie_popularity = combined_df[\"title\"].value_counts()"
   ]
  },
  {
   "cell_type": "code",
   "execution_count": 25,
   "id": "d534eb15",
   "metadata": {},
   "outputs": [
    {
     "data": {
      "text/plain": [
       "Index(['Pulp Fiction (1994)', 'Forrest Gump (1994)',\n",
       "       'Shawshank Redemption, The (1994)', 'Jurassic Park (1993)',\n",
       "       'Silence of the Lambs, The (1991)'],\n",
       "      dtype='object')"
      ]
     },
     "execution_count": 25,
     "metadata": {},
     "output_type": "execute_result"
    }
   ],
   "source": [
    "# inspecting the most common movie name title\n",
    "movie_popularity.head().index"
   ]
  },
  {
   "cell_type": "code",
   "execution_count": 56,
   "id": "e9712063",
   "metadata": {},
   "outputs": [],
   "source": [
    "# fining the mean of the ratings given to each title\n",
    "average_rating_df = combined_df[[\"title\",\"rating\"]].groupby('title').mean()"
   ]
  },
  {
   "cell_type": "code",
   "execution_count": 57,
   "id": "b8ba7c75",
   "metadata": {},
   "outputs": [
    {
     "name": "stdout",
     "output_type": "stream",
     "text": [
      "                                         rating\n",
      "title                                          \n",
      "'71 (2014)                                3.500\n",
      "'Hellboy': The Seeds of Creation (2004)   3.000\n",
      "'Round Midnight (1986)                    2.500\n",
      "'Til There Was You (1997)                 4.000\n",
      "'burbs, The (1989)                        3.125\n"
     ]
    }
   ],
   "source": [
    "print(average_rating_df.head())"
   ]
  },
  {
   "cell_type": "code",
   "execution_count": 58,
   "id": "035cf4b8",
   "metadata": {},
   "outputs": [],
   "source": [
    "# sorting the movies based on their rating to lowest\n",
    "sorted_average_ratings = average_rating_df.sort_values(by='rating',ascending=False)"
   ]
  },
  {
   "cell_type": "code",
   "execution_count": 59,
   "id": "b5331a63",
   "metadata": {},
   "outputs": [
    {
     "name": "stdout",
     "output_type": "stream",
     "text": [
      "                                                    rating\n",
      "title                                                     \n",
      "Saddest Music in the World, The (2003)                 5.0\n",
      "Interstate 60 (2002)                                   5.0\n",
      "Gunfighter, The (1950)                                 5.0\n",
      "Heima (2007)                                           5.0\n",
      "Limelight (1952)                                       5.0\n",
      "Plague Dogs, The (1982)                                5.0\n",
      "Love Me If You Dare (Jeux d'enfants) (2003)            5.0\n",
      "Syrup (2013)                                           5.0\n",
      "Interstella 5555: The 5tory of the 5ecret 5tar ...     5.0\n",
      "Symbol (Shinboru) (2009)                               5.0\n",
      "Friend Is a Treasure, A (Chi Trova Un Amico, Tr...     5.0\n",
      "Memories (Memorîzu) (1995)                             5.0\n",
      "50 Children: The Rescue Mission of Mr. And Mrs....     5.0\n",
      "Olive Kitteridge (2014)                                5.0\n",
      "Switchblade Sisters (1975)                             5.0\n",
      "Forbidden Zone (1980)                                  5.0\n",
      "Possession (1981)                                      5.0\n",
      "Swan, The (1956)                                       5.0\n",
      "Lawless Heart, The (2003)                              5.0\n",
      "Enigma of Kaspar Hauser, The (a.k.a. Mystery of...     5.0\n"
     ]
    }
   ],
   "source": [
    "print(sorted_average_ratings.head(20))"
   ]
  },
  {
   "cell_type": "code",
   "execution_count": 60,
   "id": "008d707e",
   "metadata": {},
   "outputs": [],
   "source": [
    "# creating the list of only the frequently watched movies\n",
    "movie_popularity = combined_df[\"title\"].value_counts()\n",
    "popular_movies = movie_popularity[movie_popularity >50].index"
   ]
  },
  {
   "cell_type": "code",
   "execution_count": 61,
   "id": "5c64639c",
   "metadata": {},
   "outputs": [
    {
     "data": {
      "text/plain": [
       "Index(['Pulp Fiction (1994)', 'Forrest Gump (1994)',\n",
       "       'Shawshank Redemption, The (1994)', 'Jurassic Park (1993)',\n",
       "       'Silence of the Lambs, The (1991)',\n",
       "       'Star Wars: Episode IV - A New Hope (1977)', 'Matrix, The (1999)',\n",
       "       'Terminator 2: Judgment Day (1991)', 'Braveheart (1995)',\n",
       "       'Schindler's List (1993)',\n",
       "       ...\n",
       "       'Congo (1995)', 'Payback (1999)', 'French Kiss (1995)',\n",
       "       'Bowling for Columbine (2002)', 'Craft, The (1996)',\n",
       "       'League of Their Own, A (1992)', 'James and the Giant Peach (1996)',\n",
       "       'Star Trek (2009)', 'Ronin (1998)',\n",
       "       'Rumble in the Bronx (Hont faan kui) (1995)'],\n",
       "      dtype='object', length=447)"
      ]
     },
     "execution_count": 61,
     "metadata": {},
     "output_type": "execute_result"
    }
   ],
   "source": [
    "popular_movies"
   ]
  },
  {
   "cell_type": "code",
   "execution_count": 62,
   "id": "84f285ee",
   "metadata": {},
   "outputs": [],
   "source": [
    "# now lets filter out the most ranekd movies in the original dataset\n",
    "popular_movies_rankings = combined_df[combined_df[\"title\"].isin(popular_movies)]"
   ]
  },
  {
   "cell_type": "code",
   "execution_count": 63,
   "id": "ee9fb3c6",
   "metadata": {},
   "outputs": [],
   "source": [
    "# find out the average rating given to these frequently watched movies\n",
    "popular_movies_average_rank = popular_movies_rankings[[\"title\",'rating']].groupby('title').mean()"
   ]
  },
  {
   "cell_type": "code",
   "execution_count": 64,
   "id": "bc59dabb",
   "metadata": {},
   "outputs": [],
   "source": [
    "popular_movies_average_sorted = popular_movies_average_rank.sort_values(by=\"rating\",ascending=False)"
   ]
  },
  {
   "cell_type": "code",
   "execution_count": 65,
   "id": "224ac18c",
   "metadata": {},
   "outputs": [
    {
     "data": {
      "text/html": [
       "<div>\n",
       "<style scoped>\n",
       "    .dataframe tbody tr th:only-of-type {\n",
       "        vertical-align: middle;\n",
       "    }\n",
       "\n",
       "    .dataframe tbody tr th {\n",
       "        vertical-align: top;\n",
       "    }\n",
       "\n",
       "    .dataframe thead th {\n",
       "        text-align: right;\n",
       "    }\n",
       "</style>\n",
       "<table border=\"1\" class=\"dataframe\">\n",
       "  <thead>\n",
       "    <tr style=\"text-align: right;\">\n",
       "      <th></th>\n",
       "      <th>rating</th>\n",
       "    </tr>\n",
       "    <tr>\n",
       "      <th>title</th>\n",
       "      <th></th>\n",
       "    </tr>\n",
       "  </thead>\n",
       "  <tbody>\n",
       "    <tr>\n",
       "      <th>Shawshank Redemption, The (1994)</th>\n",
       "      <td>4.454545</td>\n",
       "    </tr>\n",
       "    <tr>\n",
       "      <th>Citizen Kane (1941)</th>\n",
       "      <td>4.396104</td>\n",
       "    </tr>\n",
       "    <tr>\n",
       "      <th>Godfather, The (1972)</th>\n",
       "      <td>4.392857</td>\n",
       "    </tr>\n",
       "    <tr>\n",
       "      <th>Princess Mononoke (Mononoke-hime) (1997)</th>\n",
       "      <td>4.384615</td>\n",
       "    </tr>\n",
       "    <tr>\n",
       "      <th>Rear Window (1954)</th>\n",
       "      <td>4.331081</td>\n",
       "    </tr>\n",
       "  </tbody>\n",
       "</table>\n",
       "</div>"
      ],
      "text/plain": [
       "                                            rating\n",
       "title                                             \n",
       "Shawshank Redemption, The (1994)          4.454545\n",
       "Citizen Kane (1941)                       4.396104\n",
       "Godfather, The (1972)                     4.392857\n",
       "Princess Mononoke (Mononoke-hime) (1997)  4.384615\n",
       "Rear Window (1954)                        4.331081"
      ]
     },
     "execution_count": 65,
     "metadata": {},
     "output_type": "execute_result"
    }
   ],
   "source": [
    "popular_movies_average_sorted.head()"
   ]
  },
  {
   "cell_type": "code",
   "execution_count": null,
   "id": "0ebb94cb",
   "metadata": {},
   "outputs": [],
   "source": []
  },
  {
   "cell_type": "code",
   "execution_count": null,
   "id": "69db8b5e",
   "metadata": {},
   "outputs": [],
   "source": []
  }
 ],
 "metadata": {
  "kernelspec": {
   "display_name": "Python 3 (ipykernel)",
   "language": "python",
   "name": "python3"
  },
  "language_info": {
   "codemirror_mode": {
    "name": "ipython",
    "version": 3
   },
   "file_extension": ".py",
   "mimetype": "text/x-python",
   "name": "python",
   "nbconvert_exporter": "python",
   "pygments_lexer": "ipython3",
   "version": "3.8.2"
  }
 },
 "nbformat": 4,
 "nbformat_minor": 5
}
